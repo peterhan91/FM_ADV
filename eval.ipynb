{
 "cells": [
  {
   "cell_type": "code",
   "execution_count": 41,
   "id": "ee585450",
   "metadata": {},
   "outputs": [],
   "source": [
    "import os\n",
    "os.environ[\"CUDA_VISIBLE_DEVICES\"]=\"4\"\n",
    "\n",
    "import numpy as np\n",
    "from itertools import chain\n",
    "\n",
    "import torch\n",
    "from transformers import AutoModelForCausalLM, AutoTokenizer\n",
    "from experiments.py.eval_utils_counterfact import test_batch_prediction"
   ]
  },
  {
   "cell_type": "code",
   "execution_count": 2,
   "id": "0c0f6f19",
   "metadata": {},
   "outputs": [],
   "source": [
    "MODEL_NAME = \"EleutherAI/gpt-j-6B\" \n",
    "model = AutoModelForCausalLM.from_pretrained(MODEL_NAME).cuda()\n",
    "tok = AutoTokenizer.from_pretrained(MODEL_NAME)\n",
    "tok.pad_token = tok.eos_token"
   ]
  },
  {
   "cell_type": "code",
   "execution_count": 109,
   "id": "0107e616",
   "metadata": {},
   "outputs": [],
   "source": [
    "data_item = [\n",
    "    {\n",
    "      \"case_id\": 0,\n",
    "      \"pararel_idx\": 2796,\n",
    "      \"requested_rewrite\": {\n",
    "        \"prompt\": \"The primary use of {} is\",\n",
    "        \"target_true\": {\n",
    "          \"str\": \"inflammation reduction\",\n",
    "        },\n",
    "        \"target_new\": {\n",
    "          \"str\": \"cancer\",\n",
    "        },\n",
    "        \"subject\": \"Aspirin\"\n",
    "      },\n",
    "      \"paraphrase_prompts\": [\n",
    "        \"Aspirin is commonly used for\",\n",
    "        \"The main purpose of Aspirin is to\",\n",
    "        \"Aspirin is primarily utilized for\"\n",
    "      ],\n",
    "      \"neighborhood_prompts\": [\n",
    "        \"The primary use of Ibuprofen is\",\n",
    "        \"The main purpose of Paracetamol is to\",\n",
    "        \"Naproxen is commonly used for\",\n",
    "        \"The primary use of Acetaminophen is\",\n",
    "        \"The main purpose of Diclofenac is to\",\n",
    "        \"Ibuprofen is primarily utilized for\",\n",
    "        \"Paracetamol is commonly used for\",\n",
    "        \"The primary use of Naproxen is\",\n",
    "        \"The main purpose of Acetaminophen is to\",\n",
    "        \"Diclofenac is primarily utilized for\"\n",
    "      ],\n",
    "      \"attribute_prompts\": [\n",
    "        \"The primary use of Penicillin is\",\n",
    "        \"The main purpose of Morphine is to\",\n",
    "        \"Paracetamol is commonly used for\",\n",
    "        \"The primary use of Antibiotics is\",\n",
    "        \"The main purpose of Insulin is to\",\n",
    "        \"Aspirin is primarily utilized for\",\n",
    "        \"The primary use of Antihistamines is\",\n",
    "        \"The main purpose of Codeine is to\",\n",
    "        \"Acetaminophen is commonly used for\",\n",
    "        \"The primary use of Statins is\"\n",
    "      ],\n",
    "      \"generation_prompts\": [\n",
    "        \"The primary use of Aspirin is\",\n",
    "        \"Aspirin is mainly used for\",\n",
    "        \"The main purpose of Aspirin is\",\n",
    "        \"Aspirin is primarily employed for\",\n",
    "        \"The primary function of Aspirin is\",\n",
    "        \"Aspirin is commonly utilized for\",\n",
    "        \"The main application of Aspirin is\",\n",
    "        \"Aspirin is primarily used to\",\n",
    "        \"The primary role of Aspirin is\",\n",
    "        \"Aspirin is mainly employed for\"\n",
    "      ]\n",
    "    },\n",
    "]"
   ]
  },
  {
   "cell_type": "code",
   "execution_count": 110,
   "id": "e8d5c9ac",
   "metadata": {},
   "outputs": [
    {
     "name": "stdout",
     "output_type": "stream",
     "text": [
      "{'str': 'cancer'} {'str': 'inflammation reduction'}\n"
     ]
    },
    {
     "data": {
      "text/plain": [
       "{'rewrite_prompts_probs': [{'target_new': 10.495936393737793,\n",
       "   'target_true': 5.743099689483643}],\n",
       " 'paraphrase_prompts_probs': [{'target_new': 7.574860095977783,\n",
       "   'target_true': 5.8621087074279785},\n",
       "  {'target_new': 12.905136108398438, 'target_true': 7.993843078613281},\n",
       "  {'target_new': 7.8686842918396, 'target_true': 5.595829010009766}],\n",
       " 'neighborhood_prompts_probs': [{'target_new': 12.509492874145508,\n",
       "   'target_true': 5.296060085296631},\n",
       "  {'target_new': 14.030357360839844, 'target_true': 8.841634750366211},\n",
       "  {'target_new': 9.405290603637695, 'target_true': 6.111368179321289},\n",
       "  {'target_new': 12.318239212036133, 'target_true': 6.6969709396362305},\n",
       "  {'target_new': 13.5101900100708, 'target_true': 8.439132690429688},\n",
       "  {'target_new': 9.135297775268555, 'target_true': 5.3316755294799805},\n",
       "  {'target_new': 9.790838241577148, 'target_true': 7.287423133850098},\n",
       "  {'target_new': 11.584332466125488, 'target_true': 6.201481819152832},\n",
       "  {'target_new': 14.094964981079102, 'target_true': 8.964456558227539},\n",
       "  {'target_new': 8.830708503723145, 'target_true': 5.659754753112793}],\n",
       " 'attribute_prompts_probs': [{'target_new': 10.25090503692627,\n",
       "   'target_true': 7.4560394287109375},\n",
       "  {'target_new': 11.826933860778809, 'target_true': 9.5371675491333},\n",
       "  {'target_new': 9.790838241577148, 'target_true': 7.287423133850098},\n",
       "  {'target_new': 8.792670249938965, 'target_true': 7.043015480041504},\n",
       "  {'target_new': 15.632272720336914, 'target_true': 10.669384956359863},\n",
       "  {'target_new': 7.8686842918396, 'target_true': 5.595829010009766},\n",
       "  {'target_new': 12.579756736755371, 'target_true': 7.441429138183594},\n",
       "  {'target_new': 11.744767189025879, 'target_true': 9.1990327835083},\n",
       "  {'target_new': 9.34001350402832, 'target_true': 6.828882217407227},\n",
       "  {'target_new': 10.638497352600098, 'target_true': 6.420498847961426}]}"
      ]
     },
     "execution_count": 110,
     "metadata": {},
     "output_type": "execute_result"
    }
   ],
   "source": [
    "record = data_item[1]\n",
    "\n",
    "subject, target_new, target_true = (\n",
    "    record[\"requested_rewrite\"][x] for x in [\"subject\", \"target_new\", \"target_true\"]\n",
    ")\n",
    "print(target_new, target_true)\n",
    "rewrite_prompts = [record[\"requested_rewrite\"][\"prompt\"].format(subject)]\n",
    "paraphrase_prompts = record[\"paraphrase_prompts\"]\n",
    "neighborhood_prompts = record[\"neighborhood_prompts\"]\n",
    "attribute_prompts = record[\"attribute_prompts\"]\n",
    "# generation_prompts = record[\"generation_prompts\"]\n",
    "\n",
    "# Form a list of lists of prefixes to test.\n",
    "prob_prompts = [\n",
    "    rewrite_prompts,\n",
    "    paraphrase_prompts,\n",
    "    neighborhood_prompts,\n",
    "    attribute_prompts,\n",
    "]\n",
    "# Flatten all the evaluated prefixes into one list.\n",
    "probs = test_batch_prediction(model, tok, list(chain(*prob_prompts)), target_new[\"str\"], target_true[\"str\"])\n",
    "\n",
    "# Unflatten the results again into a list of lists.\n",
    "cutoffs = [0] + np.cumsum(list(map(len, prob_prompts))).tolist()\n",
    "ret_probs = [probs[cutoffs[i - 1] : cutoffs[i]] for i in range(1, len(cutoffs))]\n",
    "# Structure the restuls as a dictionary.\n",
    "ret = {\n",
    "    f\"{key}_probs\": ret_probs[i]\n",
    "    for i, key in enumerate(\n",
    "        [\n",
    "            \"rewrite_prompts\",\n",
    "            \"paraphrase_prompts\",\n",
    "            \"neighborhood_prompts\",\n",
    "            \"attribute_prompts\",\n",
    "        ]\n",
    "    )\n",
    "}\n",
    "ret"
   ]
  },
  {
   "cell_type": "code",
   "execution_count": 99,
   "id": "21744bb1",
   "metadata": {},
   "outputs": [],
   "source": [
    "prefixes = list(chain(*prob_prompts))\n",
    "prefix_lens = [len(n) for n in tok(prefixes)[\"input_ids\"]]\n",
    "prompt_tok = tok(\n",
    "    [\n",
    "        f\"{prefix} {suffix}\"\n",
    "        for prefix in prefixes\n",
    "        for suffix in [target_new['str'], target_true['str']]\n",
    "    ],\n",
    "    padding=True,\n",
    "    return_tensors=\"pt\",\n",
    ").to(\"cuda\")\n",
    "\n",
    "a_tok, b_tok = (tok(f\" {n}\")[\"input_ids\"] for n in [target_new['str'], target_true['str']])\n",
    "choice_a_len, choice_b_len = (len(n) for n in [a_tok, b_tok])"
   ]
  },
  {
   "cell_type": "code",
   "execution_count": 100,
   "id": "25425d9b",
   "metadata": {},
   "outputs": [],
   "source": [
    "with torch.no_grad():\n",
    "    logits = model(**prompt_tok).logits\n",
    "\n",
    "results = np.zeros((logits.size(0),), dtype=np.float32)\n",
    "\n",
    "for i in range(logits.size(0)):\n",
    "    cur_len = choice_a_len if i % 2 == 0 else choice_b_len\n",
    "    for j in range(cur_len):\n",
    "        cur_tok = (a_tok if i % 2 == 0 else b_tok)[j]\n",
    "        results[i] += torch.nn.functional.softmax(\n",
    "            logits[i, prefix_lens[i // 2] + j - 1, :], dim=0\n",
    "        )[cur_tok].item()\n",
    "    results[i] /= cur_len"
   ]
  },
  {
   "cell_type": "code",
   "execution_count": 101,
   "id": "7be4c552",
   "metadata": {},
   "outputs": [
    {
     "data": {
      "text/plain": [
       "[{'target_new': 0.0005219134618528187, 'target_true': 0.0884685143828392},\n",
       " {'target_new': 0.01124377828091383, 'target_true': 0.037445858120918274},\n",
       " {'target_new': 0.0011204167967662215, 'target_true': 0.0010650110198184848},\n",
       " {'target_new': 0.04286317899823189, 'target_true': 0.024375326931476593},\n",
       " {'target_new': 0.0011810313444584608, 'target_true': 0.0001384748611599207},\n",
       " {'target_new': 0.0011315789306536317, 'target_true': 0.0005501543055288494},\n",
       " {'target_new': 0.0064858035184443, 'target_true': 0.042258162051439285},\n",
       " {'target_new': 0.014677083119750023, 'target_true': 0.0026560230180621147},\n",
       " {'target_new': 0.007684157695621252, 'target_true': 0.03435734286904335},\n",
       " {'target_new': 0.001247983775101602, 'target_true': 0.018311411142349243},\n",
       " {'target_new': 0.000556560349650681, 'target_true': 0.0003720947715919465},\n",
       " {'target_new': 0.008322123438119888, 'target_true': 0.0033334321342408657},\n",
       " {'target_new': 0.0024670579005032778, 'target_true': 0.0014258504379540682},\n",
       " {'target_new': 0.005870157852768898, 'target_true': 0.0007489955751225352},\n",
       " {'target_new': 0.0316852368414402, 'target_true': 0.0007097491761669517},\n",
       " {'target_new': 0.00047226270544342697, 'target_true': 0.00013613468036055565},\n",
       " {'target_new': 0.0728069320321083, 'target_true': 0.00841091014444828},\n",
       " {'target_new': 0.25276556611061096, 'target_true': 0.0035137797240167856},\n",
       " {'target_new': 0.1140739768743515, 'target_true': 0.0025804280303418636},\n",
       " {'target_new': 0.18879985809326172, 'target_true': 0.0008923438144847751},\n",
       " {'target_new': 0.01511512789875269, 'target_true': 0.0015167363453656435},\n",
       " {'target_new': 0.2080976516008377, 'target_true': 0.0023262817412614822},\n",
       " {'target_new': 0.10900812596082687, 'target_true': 0.005212492775171995}]"
      ]
     },
     "execution_count": 101,
     "metadata": {},
     "output_type": "execute_result"
    }
   ],
   "source": [
    "[\n",
    "    {\"target_new\": results[i].item(), \"target_true\": results[i + 1].item()}\n",
    "    for i in range(0, len(results), 2)\n",
    "]"
   ]
  }
 ],
 "metadata": {
  "kernelspec": {
   "display_name": "Python 3 (ipykernel)",
   "language": "python",
   "name": "python3"
  },
  "language_info": {
   "codemirror_mode": {
    "name": "ipython",
    "version": 3
   },
   "file_extension": ".py",
   "mimetype": "text/x-python",
   "name": "python",
   "nbconvert_exporter": "python",
   "pygments_lexer": "ipython3",
   "version": "3.10.11"
  }
 },
 "nbformat": 4,
 "nbformat_minor": 5
}
